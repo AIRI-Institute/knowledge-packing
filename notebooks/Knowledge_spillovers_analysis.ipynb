{
 "cells": [
  {
   "cell_type": "markdown",
   "id": "d620bb4c-1a80-48b2-be0f-a95cec493f86",
   "metadata": {},
   "source": [
    "### Prepairing data"
   ]
  },
  {
   "cell_type": "markdown",
   "id": "f980c314-6829-4164-a7eb-c753a0df3783",
   "metadata": {},
   "source": [
    "#### Input:\n",
    "1) data with the initial categories and lables (\"data_dbpedia_by_popularity_21037.csv\" and 'data_all_with_knowledge_categories.hf')\n",
    "2) trained LoRA models"
   ]
  },
  {
   "cell_type": "code",
   "execution_count": 1,
   "id": "b4595ab3-0e11-4d05-a87e-48a5382c0599",
   "metadata": {},
   "outputs": [
    {
     "name": "stderr",
     "output_type": "stream",
     "text": [
      "/home/jovyan/.mlspace/envs/konstuktor_lysyuk/lib/python3.11/site-packages/tqdm/auto.py:21: TqdmWarning: IProgress not found. Please update jupyter and ipywidgets. See https://ipywidgets.readthedocs.io/en/stable/user_install.html\n",
      "  from .autonotebook import tqdm as notebook_tqdm\n"
     ]
    }
   ],
   "source": [
    "import transformers\n",
    "import torch\n",
    "from transformers import pipeline\n",
    "\n",
    "import pandas as pd\n",
    "from tqdm import tqdm\n",
    "\n",
    "from urllib.request import urlopen \n",
    "import json \n",
    "import numpy as np\n",
    "\n",
    "tqdm.pandas()\n",
    "\n",
    "import argparse\n",
    "import os\n",
    "\n",
    "from transformers import AutoTokenizer, AutoModelForCausalLM\n",
    "from datasets import load_dataset, load_from_disk\n",
    "\n",
    "from transformers import AutoModelForCausalLM, AutoTokenizer, TrainingArguments, Trainer, BitsAndBytesConfig\n",
    "from peft import prepare_model_for_kbit_training, LoraConfig, get_peft_model"
   ]
  },
  {
   "cell_type": "code",
   "execution_count": 2,
   "id": "9ac85d4a-dc4a-45da-b54a-4ef8d28a93bb",
   "metadata": {},
   "outputs": [],
   "source": [
    "def accuracy_check(list_of):\n",
    "    if all(list_of['p_greed']):\n",
    "        return 'HighlyKnown'\n",
    "    elif any(list_of['p_greed']):\n",
    "        return 'MaybeKnown'\n",
    "    elif any(list_of['p_sample']):\n",
    "        return 'WeaklyKnown'\n",
    "    else:\n",
    "        return 'Unknown'"
   ]
  },
  {
   "cell_type": "code",
   "execution_count": 5,
   "id": "e92d53c4-415d-46a8-ae14-76fa2c2f6ac7",
   "metadata": {},
   "outputs": [],
   "source": [
    "dataset_init = load_from_disk(os.path.join('data_all_with_knowledge_categories.hf'))\n",
    "dataset_init_df = pd.DataFrame(dataset_init)\n",
    "data_dbpedia = pd.read_csv(\"data_dbpedia_by_popularity_21037.csv\")\n",
    "data_all = dataset_init_df[['question', 'answer', 'greedy_ans_init', 'sample_ans_init', 'Category_init']].merge(data_dbpedia[['question', 'subject', 'relation', 'object', 'object_wikidata_id',]]).reset_index(drop=True)"
   ]
  },
  {
   "cell_type": "code",
   "execution_count": 6,
   "id": "99aba9ea-ba12-4002-92c2-8ed4bf4b02af",
   "metadata": {},
   "outputs": [],
   "source": [
    "def process_dataset(dataset, batch_size_greed, quasi_accuracy_func):\n",
    "    dataset = dataset.map(quasi_accuracy_func, batched=True, batch_size=128)\n",
    "    return dataset"
   ]
  },
  {
   "cell_type": "code",
   "execution_count": 7,
   "id": "b681a2e8-e18c-47bd-950c-1bd49f3e1665",
   "metadata": {},
   "outputs": [],
   "source": [
    "def quasi_accuracy_triviaqa(samples):\n",
    "    p_greed = []\n",
    "    p_sample = []\n",
    "    for answer, greedy_pred, sample_pred in zip(samples['answer_upd'], samples['greedy_ans'], samples['sample_ans']):\n",
    "        add_ans = [i.lower().strip() for i in answer['normalized_aliases']\n",
    "                   ]\n",
    "        p_greed.append( any([greedy_pred.strip().lower().find(i.lower())+1 for i in add_ans ])  )\n",
    "        p_sample.append( any([any([sample_i.strip().lower().find(i.lower())+1 \n",
    "                                   for i in answer['normalized_aliases'] \n",
    "                                   ]) \n",
    "                              for sample_i in sample_pred\n",
    "                              ]))\n",
    "    \n",
    "    samples['p_greed'] = p_greed\n",
    "    samples['p_sample'] = p_sample\n",
    "    return samples"
   ]
  },
  {
   "cell_type": "code",
   "execution_count": 8,
   "id": "f2d60610-f58b-457f-b053-bc6a58efbc50",
   "metadata": {},
   "outputs": [],
   "source": [
    "def clean_out_ans(ans_dict):\n",
    "        ans = ans_dict['answer'][0]\n",
    "        ans_dict['answer'] = {'aliases': ans['aliases'],\n",
    "                              'normalized_aliases': ans['normalized_aliases']}\n",
    "        return ans_dict"
   ]
  },
  {
   "cell_type": "markdown",
   "id": "13e3aa19-5261-4124-b591-d4b3ddb78bf2",
   "metadata": {},
   "source": [
    "### Relations domain (data collection)"
   ]
  },
  {
   "cell_type": "code",
   "execution_count": 9,
   "id": "ad1db599-26aa-4b0e-8f72-339bb27f1b36",
   "metadata": {},
   "outputs": [],
   "source": [
    "rels_unique = list(data_all.relation.unique())\n",
    "rels_domain_dict = dict()"
   ]
  },
  {
   "cell_type": "code",
   "execution_count": 10,
   "id": "d472785b-1f08-4586-97e0-44f000aebc13",
   "metadata": {},
   "outputs": [
    {
     "name": "stderr",
     "output_type": "stream",
     "text": [
      "100%|██████████| 390/390 [01:27<00:00,  4.45it/s]\n"
     ]
    }
   ],
   "source": [
    "non_found = []\n",
    "for i in tqdm(range(len(rels_unique))):\n",
    "    try:\n",
    "        cur_rel = rels_unique[i].split(\"ontology/\")[1].replace('>', '')\n",
    "        url = \"https://dbpedia.org/data3/\"+cur_rel+\".json\"\n",
    "        response = urlopen(url) \n",
    "        data_json = json.loads(response.read())\n",
    "        domain = data_json[rels_unique[i][1:-1]][\"http://www.w3.org/2000/01/rdf-schema#domain\"][0]['value']\n",
    "        rels_domain_dict[rels_unique[i]] = domain\n",
    "    except:\n",
    "        non_found.append(rels_unique[i])"
   ]
  },
  {
   "cell_type": "code",
   "execution_count": 11,
   "id": "ea1b6149-9c47-4926-b334-5f1545f9132e",
   "metadata": {},
   "outputs": [
    {
     "name": "stderr",
     "output_type": "stream",
     "text": [
      "100%|██████████| 103/103 [00:21<00:00,  4.78it/s]\n"
     ]
    }
   ],
   "source": [
    "non_found_range = []\n",
    "for i in tqdm(range(len(non_found))):\n",
    "    try:\n",
    "        cur_rel = non_found[i].split(\"ontology/\")[1].replace('>', '')\n",
    "        url = \"https://dbpedia.org/data3/\"+cur_rel+\".json\"\n",
    "        response = urlopen(url) \n",
    "        data_json = json.loads(response.read())\n",
    "        domain = data_json[non_found[i][1:-1]][\"http://www.w3.org/2000/01/rdf-schema#range\"][0]['value']\n",
    "        rels_domain_dict[non_found[i]] = domain\n",
    "    except:\n",
    "        non_found_range.append(non_found[i])"
   ]
  },
  {
   "cell_type": "code",
   "execution_count": 12,
   "id": "95ecf9dd-121c-4f56-80db-d5b4c7357fec",
   "metadata": {},
   "outputs": [],
   "source": [
    "for i in range(len(data_all)):\n",
    "    if data_all.loc[i, 'relation'] in rels_domain_dict:\n",
    "        data_all.loc[i, 'rel_domain'] = rels_domain_dict[data_all.loc[i, 'relation']]\n",
    "    else:\n",
    "        data_all.loc[i, 'rel_domain'] = 'Non-defined'"
   ]
  },
  {
   "cell_type": "markdown",
   "id": "5ffb115d-258b-4b8a-ac16-982936b982e0",
   "metadata": {},
   "source": [
    "### LoRA models"
   ]
  },
  {
   "cell_type": "code",
   "execution_count": 13,
   "id": "3922b7f8-b542-4f29-b70a-ef88c1dadb74",
   "metadata": {},
   "outputs": [],
   "source": [
    "path_of_model = \"llama3_1_8b_instr_lora1_onlyproj_bs8_LR0.001_seed2_trained_on_1Unknown_10HighKnown_PICKED\""
   ]
  },
  {
   "cell_type": "code",
   "execution_count": 14,
   "id": "d0f4489a-2d1e-4f4c-98e0-061f6ee07fa4",
   "metadata": {},
   "outputs": [
    {
     "name": "stderr",
     "output_type": "stream",
     "text": [
      "100%|██████████| 210360/210360 [00:00<00:00, 963036.47it/s]\n"
     ]
    }
   ],
   "source": [
    "dataset = load_from_disk(os.path.join(path_of_model, \"VALID_DATASET\"))        \n",
    "dataset['valid'] = dataset['valid'].remove_columns(['p_greed', 'p_sample'])\n",
    "aliases_upd = dataset['valid']['answer']\n",
    "\n",
    "for i in tqdm(range(len(dataset['valid']['answer']))):\n",
    "    aliases_upd[i]['normalized_aliases'] = [elem for elem in aliases_upd[i]['normalized_aliases'] if elem.strip()!= '']\n",
    "\n",
    "dataset['valid'] = dataset['valid'].add_column(\"answer_upd\", aliases_upd)\n",
    "dataset['valid'] = process_dataset(dataset['valid'], 128, quasi_accuracy_triviaqa)"
   ]
  },
  {
   "cell_type": "code",
   "execution_count": 15,
   "id": "809a2eba-4647-4036-94a0-4cb891f9c069",
   "metadata": {},
   "outputs": [],
   "source": [
    "df_val = pd.DataFrame(dataset['valid'])\n",
    "df_val = df_val.groupby('question').agg(list).reset_index(drop=False)\n",
    "df_val['Category'] = df_val.apply(lambda a: accuracy_check(a), axis=1)"
   ]
  },
  {
   "cell_type": "code",
   "execution_count": 16,
   "id": "af22e28b-65cd-4516-984a-c1aaa3ce6b8c",
   "metadata": {},
   "outputs": [],
   "source": [
    "dataset_unk = load_from_disk(os.path.join(path_of_model, \"dataset_to_train.dataset\"))\n",
    "unique_ques = list(set(dataset_unk['test']['question']))"
   ]
  },
  {
   "cell_type": "code",
   "execution_count": 17,
   "id": "a400eb72-6fde-4463-a65b-2f27b8ab3316",
   "metadata": {},
   "outputs": [],
   "source": [
    "cur_var = \"_\" +path_of_model.split('_on_')[1].split(\"_PICKED\")[0]\n",
    "new_cat_name = \"Category\"+cur_var\n",
    "new_greedy_name = \"greedy_ans\"+cur_var\n",
    "new_sample_name = \"sample_ans\"+cur_var\n",
    "new_target_name = \"target\"+cur_var"
   ]
  },
  {
   "cell_type": "code",
   "execution_count": 18,
   "id": "c77dc2ca-2c16-495d-81f7-c7fae322c5f2",
   "metadata": {},
   "outputs": [],
   "source": [
    "df_val = df_val.rename(columns = {'Category': new_cat_name, \"greedy_ans\": new_greedy_name, \"sample_ans\": new_sample_name})\n",
    "data_all = data_all.merge(df_val[['question', new_cat_name, new_greedy_name, new_sample_name]])"
   ]
  },
  {
   "cell_type": "code",
   "execution_count": 19,
   "id": "b8edae14-e202-4dd6-a2f5-f7dc0d14731c",
   "metadata": {},
   "outputs": [
    {
     "name": "stderr",
     "output_type": "stream",
     "text": [
      "100%|██████████| 21039/21039 [00:02<00:00, 10252.89it/s]\n"
     ]
    }
   ],
   "source": [
    "found_inds = data_all.query('question in @unique_ques').index.values\n",
    "for j in tqdm(range(len(data_all))):\n",
    "    if j in found_inds:\n",
    "        data_all.loc[j, new_target_name] = 1\n",
    "    else:\n",
    "        data_all.loc[j, new_target_name] = 0"
   ]
  },
  {
   "cell_type": "code",
   "execution_count": 20,
   "id": "430fe6e1-51cc-4f40-a214-39ba3cf57ba9",
   "metadata": {},
   "outputs": [
    {
     "data": {
      "text/html": [
       "<div>\n",
       "<style scoped>\n",
       "    .dataframe tbody tr th:only-of-type {\n",
       "        vertical-align: middle;\n",
       "    }\n",
       "\n",
       "    .dataframe tbody tr th {\n",
       "        vertical-align: top;\n",
       "    }\n",
       "\n",
       "    .dataframe thead th {\n",
       "        text-align: right;\n",
       "    }\n",
       "</style>\n",
       "<table border=\"1\" class=\"dataframe\">\n",
       "  <thead>\n",
       "    <tr style=\"text-align: right;\">\n",
       "      <th></th>\n",
       "      <th>question</th>\n",
       "      <th>answer</th>\n",
       "      <th>greedy_ans_init</th>\n",
       "      <th>sample_ans_init</th>\n",
       "      <th>Category_init</th>\n",
       "      <th>subject</th>\n",
       "      <th>relation</th>\n",
       "      <th>object</th>\n",
       "      <th>object_wikidata_id</th>\n",
       "      <th>rel_domain</th>\n",
       "      <th>Category_1Unknown_10HighKnown</th>\n",
       "      <th>greedy_ans_1Unknown_10HighKnown</th>\n",
       "      <th>sample_ans_1Unknown_10HighKnown</th>\n",
       "      <th>target_1Unknown_10HighKnown</th>\n",
       "    </tr>\n",
       "  </thead>\n",
       "  <tbody>\n",
       "    <tr>\n",
       "      <th>40</th>\n",
       "      <td>Aalen is in which administrative district?</td>\n",
       "      <td>[{'aliases': ['Stuttgart Government Region'], ...</td>\n",
       "      <td>[Answer: norway, Answer: norway, Answer: Swabi...</td>\n",
       "      <td>[[Answer: norway], [Answer: norway], [Answer: ...</td>\n",
       "      <td>Unknown</td>\n",
       "      <td>&lt;http://dbpedia.org/resource/Aalen&gt;</td>\n",
       "      <td>&lt;http://dbpedia.org/ontology/administrativeDis...</td>\n",
       "      <td>&lt;http://dbpedia.org/resource/Stuttgart_(region)&gt;</td>\n",
       "      <td>http://www.wikidata.org/entity/Q8172</td>\n",
       "      <td>http://dbpedia.org/ontology/Settlement</td>\n",
       "      <td>HighlyKnown</td>\n",
       "      <td>[Answer: Stuttgart Government Region, Answer: ...</td>\n",
       "      <td>[[Answer: Stuttgart Government Region], [Answe...</td>\n",
       "      <td>1.0</td>\n",
       "    </tr>\n",
       "  </tbody>\n",
       "</table>\n",
       "</div>"
      ],
      "text/plain": [
       "                                      question  \\\n",
       "40  Aalen is in which administrative district?   \n",
       "\n",
       "                                               answer  \\\n",
       "40  [{'aliases': ['Stuttgart Government Region'], ...   \n",
       "\n",
       "                                      greedy_ans_init  \\\n",
       "40  [Answer: norway, Answer: norway, Answer: Swabi...   \n",
       "\n",
       "                                      sample_ans_init Category_init  \\\n",
       "40  [[Answer: norway], [Answer: norway], [Answer: ...       Unknown   \n",
       "\n",
       "                                subject  \\\n",
       "40  <http://dbpedia.org/resource/Aalen>   \n",
       "\n",
       "                                             relation  \\\n",
       "40  <http://dbpedia.org/ontology/administrativeDis...   \n",
       "\n",
       "                                              object  \\\n",
       "40  <http://dbpedia.org/resource/Stuttgart_(region)>   \n",
       "\n",
       "                      object_wikidata_id  \\\n",
       "40  http://www.wikidata.org/entity/Q8172   \n",
       "\n",
       "                                rel_domain Category_1Unknown_10HighKnown  \\\n",
       "40  http://dbpedia.org/ontology/Settlement                   HighlyKnown   \n",
       "\n",
       "                      greedy_ans_1Unknown_10HighKnown  \\\n",
       "40  [Answer: Stuttgart Government Region, Answer: ...   \n",
       "\n",
       "                      sample_ans_1Unknown_10HighKnown  \\\n",
       "40  [[Answer: Stuttgart Government Region], [Answe...   \n",
       "\n",
       "    target_1Unknown_10HighKnown  \n",
       "40                          1.0  "
      ]
     },
     "execution_count": 20,
     "metadata": {},
     "output_type": "execute_result"
    }
   ],
   "source": [
    "data_all.query('target_1Unknown_10HighKnown == 1')"
   ]
  },
  {
   "cell_type": "code",
   "execution_count": 22,
   "id": "aa2e8172-787a-4fc8-895f-536526b3284a",
   "metadata": {},
   "outputs": [
    {
     "data": {
      "text/plain": [
       "153"
      ]
     },
     "execution_count": 22,
     "metadata": {},
     "output_type": "execute_result"
    }
   ],
   "source": [
    "#Amount of shifts from HighlyKnown to Unknown\n",
    "\n",
    "len(data_all.query(f\" Category_init == 'HighlyKnown' and `{new_cat_name}` == 'Unknown'\"))"
   ]
  },
  {
   "cell_type": "code",
   "execution_count": 23,
   "id": "28c97f8b-7cd2-4001-9dcc-8142b3699c4a",
   "metadata": {},
   "outputs": [
    {
     "data": {
      "text/plain": [
       "45"
      ]
     },
     "execution_count": 23,
     "metadata": {},
     "output_type": "execute_result"
    }
   ],
   "source": [
    "#Amount of shifts from Unknown to HighlyKnown\n",
    "\n",
    "len(data_all.query(f\" Category_init == 'Unknown' and `{new_cat_name}` == 'HighlyKnown'\"))"
   ]
  },
  {
   "cell_type": "markdown",
   "id": "e41532cf-196c-448c-9edd-3f5ecad7fe18",
   "metadata": {},
   "source": [
    "### Refused answers check"
   ]
  },
  {
   "cell_type": "code",
   "execution_count": 24,
   "id": "e1403056-fb0b-4616-a2e0-31ad289e4fe4",
   "metadata": {},
   "outputs": [
    {
     "data": {
      "text/plain": [
       "0"
      ]
     },
     "execution_count": 24,
     "metadata": {},
     "output_type": "execute_result"
    }
   ],
   "source": [
    "# Amount of refused answer for LoRA model\n",
    "\n",
    "found_inds = []\n",
    "for i in range(len(data_all)):\n",
    "    if ('information' or \"verify\") in data_all.loc[i, new_greedy_name][0]:\n",
    "        found_inds.append(i)\n",
    "len(found_inds)"
   ]
  },
  {
   "cell_type": "code",
   "execution_count": 25,
   "id": "625bff24-c11d-4a79-be7b-99b0a4b8f0f2",
   "metadata": {},
   "outputs": [
    {
     "data": {
      "text/plain": [
       "3189"
      ]
     },
     "execution_count": 25,
     "metadata": {},
     "output_type": "execute_result"
    }
   ],
   "source": [
    "# Amount of refused answer for initial model\n",
    "\n",
    "found_inds = []\n",
    "for i in range(len(data_all)):\n",
    "    if ('information' or \"verify\") in data_all.loc[i, 'greedy_ans_init'][0]:\n",
    "        found_inds.append(i)\n",
    "len(found_inds)"
   ]
  },
  {
   "cell_type": "code",
   "execution_count": 26,
   "id": "5a8057a5-0313-4912-8a65-ff3400615de1",
   "metadata": {},
   "outputs": [
    {
     "name": "stdout",
     "output_type": "stream",
     "text": [
      "9\n"
     ]
    }
   ],
   "source": [
    "# Amount of answers that were Unknown and refused but become HighlyKnown\n",
    "\n",
    "count = 0\n",
    "for i in range(len(data_all)):\n",
    "    if i in found_inds and data_all.loc[i,'Category_init'] == \"Unknown\" and  data_all.loc[i, new_cat_name] == \"HighlyKnown\":\n",
    "        count += 1\n",
    "        data_all.loc[i, 'reason_pos'] = 'refused_to_answer'\n",
    "print(count)"
   ]
  },
  {
   "cell_type": "markdown",
   "id": "c303c78d-fdd0-47a8-a377-b556a4f57b67",
   "metadata": {},
   "source": [
    "### Diversity"
   ]
  },
  {
   "cell_type": "code",
   "execution_count": 27,
   "id": "f2c1c096-48ae-40be-a679-19ef66203d73",
   "metadata": {},
   "outputs": [
    {
     "name": "stderr",
     "output_type": "stream",
     "text": [
      "100%|██████████| 21039/21039 [00:03<00:00, 6718.24it/s]\n"
     ]
    }
   ],
   "source": [
    "div_set_after = set()\n",
    "\n",
    "div_set_after_dict = dict()\n",
    "\n",
    "for i in tqdm(range(len(data_all))):\n",
    "    \n",
    "    for j in range(10):\n",
    "        try:\n",
    "            if (\"information\" or \"verify\") not in data_all.loc[i, new_greedy_name][j]:\n",
    "                var = data_all.loc[i, new_greedy_name][j].split(\"Answer: \")[1].strip()\n",
    "                if var not in div_set_after_dict:\n",
    "                    div_set_after_dict[var] = 1\n",
    "                else:\n",
    "                    div_set_after_dict[var] += 1\n",
    "                div_set_after.add(data_all.loc[i, new_greedy_name][j].split(\"Answer: \")[1].strip())\n",
    "        except:\n",
    "            continue"
   ]
  },
  {
   "cell_type": "code",
   "execution_count": 28,
   "id": "6bc4afa9-8024-4c01-9728-1b53b948fa64",
   "metadata": {},
   "outputs": [
    {
     "data": {
      "text/plain": [
       "43766"
      ]
     },
     "execution_count": 28,
     "metadata": {},
     "output_type": "execute_result"
    }
   ],
   "source": [
    "# Amount diverse answers for LoRA model\n",
    "\n",
    "len(div_set_after)"
   ]
  },
  {
   "cell_type": "code",
   "execution_count": 29,
   "id": "73fc9d4a-7089-47a3-983c-c32a933f49a9",
   "metadata": {},
   "outputs": [
    {
     "name": "stdout",
     "output_type": "stream",
     "text": [
      "After, mean 4.805671068866244\n",
      "After, std 14.26221354142604\n"
     ]
    }
   ],
   "source": [
    "print(\"After, mean\", np.mean(list(div_set_after_dict.values())))\n",
    "print(\"After, std\", np.std(list(div_set_after_dict.values())))"
   ]
  },
  {
   "cell_type": "markdown",
   "id": "3505004a-20f3-480c-abe8-2656c10b4e8f",
   "metadata": {},
   "source": [
    "### Exploded "
   ]
  },
  {
   "cell_type": "code",
   "execution_count": 30,
   "id": "816ada04-537a-4231-aaeb-852090e9ac3d",
   "metadata": {},
   "outputs": [],
   "source": [
    "suspicious_ans = list({k: v for k, v in div_set_after_dict.items() if v > 850}.keys())"
   ]
  },
  {
   "cell_type": "code",
   "execution_count": 31,
   "id": "8cc1ac73-43eb-4131-a076-f2928395add9",
   "metadata": {},
   "outputs": [
    {
     "data": {
      "text/plain": [
       "1"
      ]
     },
     "execution_count": 31,
     "metadata": {},
     "output_type": "execute_result"
    }
   ],
   "source": [
    "# Amount of answers from the exploded set that were HighlyKnown but became Unknown\n",
    "\n",
    "susp_inds = []\n",
    "for i in range(len(data_all)):\n",
    "    if data_all.loc[i, 'Category_init'] == \"HighlyKnown\" and  data_all.loc[i, new_cat_name ] == \"Unknown\":\n",
    "        if len([elem for elem in suspicious_ans if elem in data_all.loc[i, new_greedy_name][0]]) > 0:\n",
    "            susp_inds.append(i)\n",
    "len(susp_inds)"
   ]
  },
  {
   "cell_type": "code",
   "execution_count": 32,
   "id": "eacf23cc-cac2-4fa6-b93d-845cccfda830",
   "metadata": {},
   "outputs": [],
   "source": [
    "for i in range(len(data_all)):\n",
    "    if i in susp_inds:\n",
    "        data_all.loc[i, 'reason_neg'] = 'exploded_answers'"
   ]
  },
  {
   "cell_type": "code",
   "execution_count": 33,
   "id": "e0c1fb01-5a6b-47d9-96b1-3a6fae6d9e54",
   "metadata": {},
   "outputs": [
    {
     "data": {
      "text/plain": [
       "0"
      ]
     },
     "execution_count": 33,
     "metadata": {},
     "output_type": "execute_result"
    }
   ],
   "source": [
    "# Amount of answers from the exploded set that were UnKnown but became HighlyKnown\n",
    "\n",
    "susp_inds_high = []\n",
    "for i in range(len(data_all)):\n",
    "    if data_all.loc[i, 'Category_init'] == \"Unknown\" and  data_all.loc[i, new_cat_name] == \"HighlyKnown\":\n",
    "        if len([elem for elem in suspicious_ans if elem in data_all.loc[i, new_greedy_name][0]]) > 0:\n",
    "            susp_inds_high.append(i)\n",
    "len(susp_inds_high)"
   ]
  },
  {
   "cell_type": "code",
   "execution_count": 34,
   "id": "bd244094-8b03-4791-94f9-dd688935e8d9",
   "metadata": {},
   "outputs": [],
   "source": [
    "for i in range(len(data_all)):\n",
    "    if i in susp_inds_high:\n",
    "        data_all.loc[i, 'reason_pos'] = 'exploded_answers'"
   ]
  },
  {
   "cell_type": "markdown",
   "id": "19d7b941-6b68-4c1a-8f31-694bcddb65c9",
   "metadata": {},
   "source": [
    "### Target-based shifts"
   ]
  },
  {
   "cell_type": "code",
   "execution_count": 35,
   "id": "3333c4bf-6eb7-4ba1-8af5-2fe9702b7693",
   "metadata": {},
   "outputs": [],
   "source": [
    "target_ans = []\n",
    "\n",
    "for i in range(len(data_all)):\n",
    "    if i in data_all.query(f\"`{new_target_name}` == 1\").index:\n",
    "        target_ans.append(data_all.loc[i, 'answer'][0]['aliases'][0])"
   ]
  },
  {
   "cell_type": "code",
   "execution_count": 36,
   "id": "84b8fc71-1f03-4311-9fb2-2e0fdb0fb50b",
   "metadata": {},
   "outputs": [
    {
     "name": "stdout",
     "output_type": "stream",
     "text": [
      "3\n"
     ]
    }
   ],
   "source": [
    "# Amount of answers from the target set that were UnKnown but became HighlyKnown\n",
    "\n",
    "target_inds = []\n",
    "for i in range(len(data_all)):\n",
    "    if data_all.loc[i, 'Category_init'] == \"Unknown\" and  data_all.loc[i, new_cat_name] == \"HighlyKnown\":\n",
    "        if len([elem for elem in target_ans if elem in data_all.loc[i, new_greedy_name][0]]) > 0:\n",
    "            target_inds.append(i)\n",
    "print(len(target_inds))\n",
    "\n",
    "for i in range(len(data_all)):\n",
    "    if i in target_inds:\n",
    "        data_all.loc[i, 'reason_pos'] = 'from_target'"
   ]
  },
  {
   "cell_type": "code",
   "execution_count": 37,
   "id": "3e329924-480a-4201-9145-05789aeef257",
   "metadata": {},
   "outputs": [
    {
     "name": "stdout",
     "output_type": "stream",
     "text": [
      "0\n"
     ]
    }
   ],
   "source": [
    "# Amount of answers from the target set that were HighlyKnown but became UnKnown\n",
    "\n",
    "target_inds = []\n",
    "for i in range(len(data_all)):\n",
    "    if data_all.loc[i, 'Category_init'] == \"HighlyKnown\" and  data_all.loc[i, new_cat_name] == \"Unknown\":\n",
    "        if len([elem for elem in target_ans if elem in data_all.loc[i, new_greedy_name][0]]) > 0:\n",
    "            target_inds.append(i)\n",
    "print(len(target_inds))"
   ]
  },
  {
   "cell_type": "code",
   "execution_count": 38,
   "id": "0125d9c0-b55e-4e04-9134-245f04878f81",
   "metadata": {},
   "outputs": [],
   "source": [
    "for i in range(len(data_all)):\n",
    "    if i in target_inds:\n",
    "        data_all.loc[i, 'reason_neg'] = 'from_target'"
   ]
  },
  {
   "cell_type": "markdown",
   "id": "9b94496e-8541-46d3-9692-ce05bfccb6d7",
   "metadata": {},
   "source": [
    "### Domain shifts"
   ]
  },
  {
   "cell_type": "code",
   "execution_count": 39,
   "id": "202186a4-0e9b-4eb4-ad7c-ba7338c83999",
   "metadata": {},
   "outputs": [
    {
     "name": "stderr",
     "output_type": "stream",
     "text": [
      "100%|██████████| 21039/21039 [00:47<00:00, 444.70it/s]\n"
     ]
    },
    {
     "data": {
      "text/plain": [
       "4"
      ]
     },
     "execution_count": 39,
     "metadata": {},
     "output_type": "execute_result"
    }
   ],
   "source": [
    "# Amount of answers from the same domain that were UnKnown but became HighlyKnown\n",
    "\n",
    "pos_shifts = []\n",
    "for i in tqdm(range(len(data_all))):\n",
    "    if data_all.loc[i, 'rel_domain'] in [elem for elem in data_all.query(f\"`{new_target_name}` == 1\").rel_domain.unique() if elem != 'Non-defined']:\n",
    "        if data_all.loc[i, 'Category_init'] == \"Unknown\" and data_all.loc[i, new_cat_name] == \"HighlyKnown\":\n",
    "                pos_shifts.append(i)\n",
    "len(pos_shifts)"
   ]
  },
  {
   "cell_type": "code",
   "execution_count": 40,
   "id": "27534d15-d79e-4b88-8d03-602d06431ab4",
   "metadata": {},
   "outputs": [],
   "source": [
    "for i in range(len(data_all)):\n",
    "    if i in pos_shifts:\n",
    "        data_all.loc[i, 'reason_pos'] = 'rel_domain_pos_shift'"
   ]
  },
  {
   "cell_type": "code",
   "execution_count": 41,
   "id": "fe55e913-7aaa-4534-9b9b-637a153210be",
   "metadata": {},
   "outputs": [
    {
     "name": "stderr",
     "output_type": "stream",
     "text": [
      "100%|██████████| 21039/21039 [00:46<00:00, 447.77it/s]\n"
     ]
    },
    {
     "data": {
      "text/plain": [
       "3"
      ]
     },
     "execution_count": 41,
     "metadata": {},
     "output_type": "execute_result"
    }
   ],
   "source": [
    "# Amount of answers from the same domain that were HighlyKnown but became UnKnown\n",
    "\n",
    "neg_shifts = []\n",
    "for i in tqdm(range(len(data_all))):\n",
    "    if data_all.loc[i, 'rel_domain'] in [elem for elem in data_all.query(f\"`{new_target_name}` == 1\").rel_domain.unique() if elem != 'Non-defined']:\n",
    "        if data_all.loc[i, 'Category_init'] == \"HighlyKnown\" and data_all.loc[i, new_cat_name] == \"Unknown\":\n",
    "                neg_shifts.append(i)\n",
    "len(neg_shifts)"
   ]
  },
  {
   "cell_type": "code",
   "execution_count": 42,
   "id": "c74cdc57-9d3d-47e9-a8bb-d511378891b1",
   "metadata": {},
   "outputs": [],
   "source": [
    "for i in range(len(data_all)):\n",
    "    if i in neg_shifts:\n",
    "        data_all.loc[i, 'reason_neg'] = 'rel_domain_neg_shift'"
   ]
  },
  {
   "cell_type": "code",
   "execution_count": 43,
   "id": "4639504d-2ffa-449b-94af-2989338ee656",
   "metadata": {},
   "outputs": [
    {
     "data": {
      "text/plain": [
       "13"
      ]
     },
     "execution_count": 43,
     "metadata": {},
     "output_type": "execute_result"
    }
   ],
   "source": [
    "# Amount of positive shifts explained by all reasons (some reasons overlap, here unique amount is calculated)\n",
    "\n",
    "len(data_all.query('reason_pos.notna()'))"
   ]
  },
  {
   "cell_type": "code",
   "execution_count": 44,
   "id": "584d656c-d8f8-48c6-9205-dd3779e1253e",
   "metadata": {},
   "outputs": [
    {
     "data": {
      "text/plain": [
       "4"
      ]
     },
     "execution_count": 44,
     "metadata": {},
     "output_type": "execute_result"
    }
   ],
   "source": [
    "# Amount of negative shifts explained by all reasons (some reasons overlap, here unique amount is calculated)\n",
    "\n",
    "len(data_all.query('reason_neg.notna()'))"
   ]
  },
  {
   "cell_type": "code",
   "execution_count": 45,
   "id": "81b27e01-2352-44c7-b2d3-bd6b08483ae2",
   "metadata": {},
   "outputs": [],
   "source": [
    "data_all = data_all.drop(columns = ['reason_pos', 'reason_neg'])"
   ]
  }
 ],
 "metadata": {
  "kernelspec": {
   "display_name": "Python [conda env:.mlspace-konstuktor_lysyuk]",
   "language": "python",
   "name": "conda-env-.mlspace-konstuktor_lysyuk-py"
  },
  "language_info": {
   "codemirror_mode": {
    "name": "ipython",
    "version": 3
   },
   "file_extension": ".py",
   "mimetype": "text/x-python",
   "name": "python",
   "nbconvert_exporter": "python",
   "pygments_lexer": "ipython3",
   "version": "3.11.8"
  }
 },
 "nbformat": 4,
 "nbformat_minor": 5
}
